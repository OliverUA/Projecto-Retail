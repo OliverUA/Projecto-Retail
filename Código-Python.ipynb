{
 "cells": [
  {
   "cell_type": "markdown",
   "id": "44f0f78a-5575-4854-bfc2-95dd4c55d987",
   "metadata": {},
   "source": [
    "Retail Sales Project\n"
   ]
  },
  {
   "cell_type": "code",
   "execution_count": 1,
   "id": "d7c1031c-7b84-435d-b933-fcfa8d447387",
   "metadata": {},
   "outputs": [],
   "source": [
    "#Importar librerias\n",
    "\n",
    "import pandas as pd\n",
    "import seaborn as sns\n",
    "import numpy as np\n",
    "import matplotlib.pyplot as plt\n",
    "from matplotlib.ticker import ScalarFormatter\n",
    "\n",
    "features = pd.read_csv(\"/Users/oliver/Documents/Data Analyst Project/Retail project/archive/Features Data Set.csv\")\n",
    "sales = pd.read_csv(\"/Users/oliver/Documents/Data Analyst Project/Retail project/archive/sales data-set.csv\")\n",
    "stores = pd.read_csv(\"/Users/oliver/Documents/Data Analyst Project/Retail project/archive/stores data-set.csv\")"
   ]
  },
  {
   "cell_type": "markdown",
   "id": "d4d84063-dba2-41fc-929a-d6a74ddeb2bd",
   "metadata": {},
   "source": [
    "Data frames"
   ]
  },
  {
   "cell_type": "code",
   "execution_count": 2,
   "id": "4c6f64b0-082a-4381-96c9-e4c08fb6212f",
   "metadata": {},
   "outputs": [
    {
     "data": {
      "text/html": [
       "<div>\n",
       "<style scoped>\n",
       "    .dataframe tbody tr th:only-of-type {\n",
       "        vertical-align: middle;\n",
       "    }\n",
       "\n",
       "    .dataframe tbody tr th {\n",
       "        vertical-align: top;\n",
       "    }\n",
       "\n",
       "    .dataframe thead th {\n",
       "        text-align: right;\n",
       "    }\n",
       "</style>\n",
       "<table border=\"1\" class=\"dataframe\">\n",
       "  <thead>\n",
       "    <tr style=\"text-align: right;\">\n",
       "      <th></th>\n",
       "      <th>Store</th>\n",
       "      <th>Date</th>\n",
       "      <th>Temperature</th>\n",
       "      <th>Fuel_Price</th>\n",
       "      <th>MarkDown1</th>\n",
       "      <th>MarkDown2</th>\n",
       "      <th>MarkDown3</th>\n",
       "      <th>MarkDown4</th>\n",
       "      <th>MarkDown5</th>\n",
       "      <th>CPI</th>\n",
       "      <th>Unemployment</th>\n",
       "      <th>IsHoliday</th>\n",
       "    </tr>\n",
       "  </thead>\n",
       "  <tbody>\n",
       "    <tr>\n",
       "      <th>0</th>\n",
       "      <td>1</td>\n",
       "      <td>05/02/2010</td>\n",
       "      <td>42.31</td>\n",
       "      <td>2.572</td>\n",
       "      <td>NaN</td>\n",
       "      <td>NaN</td>\n",
       "      <td>NaN</td>\n",
       "      <td>NaN</td>\n",
       "      <td>NaN</td>\n",
       "      <td>211.096358</td>\n",
       "      <td>8.106</td>\n",
       "      <td>False</td>\n",
       "    </tr>\n",
       "    <tr>\n",
       "      <th>1</th>\n",
       "      <td>1</td>\n",
       "      <td>12/02/2010</td>\n",
       "      <td>38.51</td>\n",
       "      <td>2.548</td>\n",
       "      <td>NaN</td>\n",
       "      <td>NaN</td>\n",
       "      <td>NaN</td>\n",
       "      <td>NaN</td>\n",
       "      <td>NaN</td>\n",
       "      <td>211.242170</td>\n",
       "      <td>8.106</td>\n",
       "      <td>True</td>\n",
       "    </tr>\n",
       "    <tr>\n",
       "      <th>2</th>\n",
       "      <td>1</td>\n",
       "      <td>19/02/2010</td>\n",
       "      <td>39.93</td>\n",
       "      <td>2.514</td>\n",
       "      <td>NaN</td>\n",
       "      <td>NaN</td>\n",
       "      <td>NaN</td>\n",
       "      <td>NaN</td>\n",
       "      <td>NaN</td>\n",
       "      <td>211.289143</td>\n",
       "      <td>8.106</td>\n",
       "      <td>False</td>\n",
       "    </tr>\n",
       "    <tr>\n",
       "      <th>3</th>\n",
       "      <td>1</td>\n",
       "      <td>26/02/2010</td>\n",
       "      <td>46.63</td>\n",
       "      <td>2.561</td>\n",
       "      <td>NaN</td>\n",
       "      <td>NaN</td>\n",
       "      <td>NaN</td>\n",
       "      <td>NaN</td>\n",
       "      <td>NaN</td>\n",
       "      <td>211.319643</td>\n",
       "      <td>8.106</td>\n",
       "      <td>False</td>\n",
       "    </tr>\n",
       "    <tr>\n",
       "      <th>4</th>\n",
       "      <td>1</td>\n",
       "      <td>05/03/2010</td>\n",
       "      <td>46.50</td>\n",
       "      <td>2.625</td>\n",
       "      <td>NaN</td>\n",
       "      <td>NaN</td>\n",
       "      <td>NaN</td>\n",
       "      <td>NaN</td>\n",
       "      <td>NaN</td>\n",
       "      <td>211.350143</td>\n",
       "      <td>8.106</td>\n",
       "      <td>False</td>\n",
       "    </tr>\n",
       "  </tbody>\n",
       "</table>\n",
       "</div>"
      ],
      "text/plain": [
       "   Store        Date  Temperature  Fuel_Price  MarkDown1  MarkDown2  \\\n",
       "0      1  05/02/2010        42.31       2.572        NaN        NaN   \n",
       "1      1  12/02/2010        38.51       2.548        NaN        NaN   \n",
       "2      1  19/02/2010        39.93       2.514        NaN        NaN   \n",
       "3      1  26/02/2010        46.63       2.561        NaN        NaN   \n",
       "4      1  05/03/2010        46.50       2.625        NaN        NaN   \n",
       "\n",
       "   MarkDown3  MarkDown4  MarkDown5         CPI  Unemployment  IsHoliday  \n",
       "0        NaN        NaN        NaN  211.096358         8.106      False  \n",
       "1        NaN        NaN        NaN  211.242170         8.106       True  \n",
       "2        NaN        NaN        NaN  211.289143         8.106      False  \n",
       "3        NaN        NaN        NaN  211.319643         8.106      False  \n",
       "4        NaN        NaN        NaN  211.350143         8.106      False  "
      ]
     },
     "execution_count": 2,
     "metadata": {},
     "output_type": "execute_result"
    }
   ],
   "source": [
    "features.head()"
   ]
  },
  {
   "cell_type": "code",
   "execution_count": 3,
   "id": "638e35a1-4f4d-4e16-8863-941d8767d376",
   "metadata": {},
   "outputs": [
    {
     "data": {
      "text/html": [
       "<div>\n",
       "<style scoped>\n",
       "    .dataframe tbody tr th:only-of-type {\n",
       "        vertical-align: middle;\n",
       "    }\n",
       "\n",
       "    .dataframe tbody tr th {\n",
       "        vertical-align: top;\n",
       "    }\n",
       "\n",
       "    .dataframe thead th {\n",
       "        text-align: right;\n",
       "    }\n",
       "</style>\n",
       "<table border=\"1\" class=\"dataframe\">\n",
       "  <thead>\n",
       "    <tr style=\"text-align: right;\">\n",
       "      <th></th>\n",
       "      <th>Store</th>\n",
       "      <th>Dept</th>\n",
       "      <th>Date</th>\n",
       "      <th>Weekly_Sales</th>\n",
       "      <th>IsHoliday</th>\n",
       "    </tr>\n",
       "  </thead>\n",
       "  <tbody>\n",
       "    <tr>\n",
       "      <th>0</th>\n",
       "      <td>1</td>\n",
       "      <td>1</td>\n",
       "      <td>05/02/2010</td>\n",
       "      <td>24924.50</td>\n",
       "      <td>False</td>\n",
       "    </tr>\n",
       "    <tr>\n",
       "      <th>1</th>\n",
       "      <td>1</td>\n",
       "      <td>1</td>\n",
       "      <td>12/02/2010</td>\n",
       "      <td>46039.49</td>\n",
       "      <td>True</td>\n",
       "    </tr>\n",
       "    <tr>\n",
       "      <th>2</th>\n",
       "      <td>1</td>\n",
       "      <td>1</td>\n",
       "      <td>19/02/2010</td>\n",
       "      <td>41595.55</td>\n",
       "      <td>False</td>\n",
       "    </tr>\n",
       "    <tr>\n",
       "      <th>3</th>\n",
       "      <td>1</td>\n",
       "      <td>1</td>\n",
       "      <td>26/02/2010</td>\n",
       "      <td>19403.54</td>\n",
       "      <td>False</td>\n",
       "    </tr>\n",
       "    <tr>\n",
       "      <th>4</th>\n",
       "      <td>1</td>\n",
       "      <td>1</td>\n",
       "      <td>05/03/2010</td>\n",
       "      <td>21827.90</td>\n",
       "      <td>False</td>\n",
       "    </tr>\n",
       "  </tbody>\n",
       "</table>\n",
       "</div>"
      ],
      "text/plain": [
       "   Store  Dept        Date  Weekly_Sales  IsHoliday\n",
       "0      1     1  05/02/2010      24924.50      False\n",
       "1      1     1  12/02/2010      46039.49       True\n",
       "2      1     1  19/02/2010      41595.55      False\n",
       "3      1     1  26/02/2010      19403.54      False\n",
       "4      1     1  05/03/2010      21827.90      False"
      ]
     },
     "execution_count": 3,
     "metadata": {},
     "output_type": "execute_result"
    }
   ],
   "source": [
    "sales.head()"
   ]
  },
  {
   "cell_type": "code",
   "execution_count": 4,
   "id": "b34f96bf-5de5-4f47-b714-2e42df573e21",
   "metadata": {},
   "outputs": [
    {
     "data": {
      "text/html": [
       "<div>\n",
       "<style scoped>\n",
       "    .dataframe tbody tr th:only-of-type {\n",
       "        vertical-align: middle;\n",
       "    }\n",
       "\n",
       "    .dataframe tbody tr th {\n",
       "        vertical-align: top;\n",
       "    }\n",
       "\n",
       "    .dataframe thead th {\n",
       "        text-align: right;\n",
       "    }\n",
       "</style>\n",
       "<table border=\"1\" class=\"dataframe\">\n",
       "  <thead>\n",
       "    <tr style=\"text-align: right;\">\n",
       "      <th></th>\n",
       "      <th>Store</th>\n",
       "      <th>Type</th>\n",
       "      <th>Size</th>\n",
       "    </tr>\n",
       "  </thead>\n",
       "  <tbody>\n",
       "    <tr>\n",
       "      <th>0</th>\n",
       "      <td>1</td>\n",
       "      <td>A</td>\n",
       "      <td>151315</td>\n",
       "    </tr>\n",
       "    <tr>\n",
       "      <th>1</th>\n",
       "      <td>2</td>\n",
       "      <td>A</td>\n",
       "      <td>202307</td>\n",
       "    </tr>\n",
       "    <tr>\n",
       "      <th>2</th>\n",
       "      <td>3</td>\n",
       "      <td>B</td>\n",
       "      <td>37392</td>\n",
       "    </tr>\n",
       "    <tr>\n",
       "      <th>3</th>\n",
       "      <td>4</td>\n",
       "      <td>A</td>\n",
       "      <td>205863</td>\n",
       "    </tr>\n",
       "    <tr>\n",
       "      <th>4</th>\n",
       "      <td>5</td>\n",
       "      <td>B</td>\n",
       "      <td>34875</td>\n",
       "    </tr>\n",
       "  </tbody>\n",
       "</table>\n",
       "</div>"
      ],
      "text/plain": [
       "   Store Type    Size\n",
       "0      1    A  151315\n",
       "1      2    A  202307\n",
       "2      3    B   37392\n",
       "3      4    A  205863\n",
       "4      5    B   34875"
      ]
     },
     "execution_count": 4,
     "metadata": {},
     "output_type": "execute_result"
    }
   ],
   "source": [
    "stores.head()"
   ]
  },
  {
   "cell_type": "markdown",
   "id": "66a2a379-bd21-4fc5-a157-abaf5a02b8cd",
   "metadata": {},
   "source": [
    "Data Cleaning"
   ]
  },
  {
   "cell_type": "code",
   "execution_count": 7,
   "id": "c7141ce6-50d5-461c-86be-d3cefa043046",
   "metadata": {
    "tags": []
   },
   "outputs": [],
   "source": [
    "#Limpieza\n",
    "\n",
    "#Analizando valores Null\n",
    "\n",
    "features.isnull().sum()\n",
    "markdowns = [\"MarkDown1\",\"MarkDown2\",\"MarkDown3\",\"MarkDown4\",\"MarkDown5\"]\n",
    "features[markdowns] = features[markdowns].fillna(0)\n",
    "\n",
    "#Analizando los tipos de datos y limpiando la columna \"Date\"\n",
    "\n",
    "features[\"Date\"]=pd.to_datetime(features[\"Date\"])\n",
    "\n",
    "sales[\"Date\"]=pd.to_datetime(sales[\"Date\"])\n",
    "\n",
    "#Analizando valores duplicados\n",
    "\n",
    "duplicatesfeat = features.duplicated().sum()\n",
    "duplicatessale = sales.duplicated().sum()\n",
    "duplicatesstore = stores.duplicated().sum()\n"
   ]
  },
  {
   "cell_type": "markdown",
   "id": "fc53c285-ebf0-416b-b741-f891253367e7",
   "metadata": {},
   "source": [
    "Joining Data"
   ]
  },
  {
   "cell_type": "code",
   "execution_count": 8,
   "id": "3de13859-75ff-417a-9add-4a26f2e0256d",
   "metadata": {},
   "outputs": [
    {
     "data": {
      "text/html": [
       "<div>\n",
       "<style scoped>\n",
       "    .dataframe tbody tr th:only-of-type {\n",
       "        vertical-align: middle;\n",
       "    }\n",
       "\n",
       "    .dataframe tbody tr th {\n",
       "        vertical-align: top;\n",
       "    }\n",
       "\n",
       "    .dataframe thead th {\n",
       "        text-align: right;\n",
       "    }\n",
       "</style>\n",
       "<table border=\"1\" class=\"dataframe\">\n",
       "  <thead>\n",
       "    <tr style=\"text-align: right;\">\n",
       "      <th></th>\n",
       "      <th>Store</th>\n",
       "      <th>Dept</th>\n",
       "      <th>Date</th>\n",
       "      <th>Weekly_Sales</th>\n",
       "      <th>IsHoliday</th>\n",
       "      <th>Temperature</th>\n",
       "      <th>Fuel_Price</th>\n",
       "      <th>MarkDown1</th>\n",
       "      <th>MarkDown2</th>\n",
       "      <th>MarkDown3</th>\n",
       "      <th>MarkDown4</th>\n",
       "      <th>MarkDown5</th>\n",
       "      <th>CPI</th>\n",
       "      <th>Unemployment</th>\n",
       "    </tr>\n",
       "  </thead>\n",
       "  <tbody>\n",
       "    <tr>\n",
       "      <th>0</th>\n",
       "      <td>1</td>\n",
       "      <td>1</td>\n",
       "      <td>2010-05-02</td>\n",
       "      <td>24924.50</td>\n",
       "      <td>False</td>\n",
       "      <td>42.31</td>\n",
       "      <td>2.572</td>\n",
       "      <td>0.0</td>\n",
       "      <td>0.0</td>\n",
       "      <td>0.0</td>\n",
       "      <td>0.0</td>\n",
       "      <td>0.0</td>\n",
       "      <td>211.096358</td>\n",
       "      <td>8.106</td>\n",
       "    </tr>\n",
       "    <tr>\n",
       "      <th>1</th>\n",
       "      <td>1</td>\n",
       "      <td>1</td>\n",
       "      <td>2010-12-02</td>\n",
       "      <td>46039.49</td>\n",
       "      <td>True</td>\n",
       "      <td>38.51</td>\n",
       "      <td>2.548</td>\n",
       "      <td>0.0</td>\n",
       "      <td>0.0</td>\n",
       "      <td>0.0</td>\n",
       "      <td>0.0</td>\n",
       "      <td>0.0</td>\n",
       "      <td>211.242170</td>\n",
       "      <td>8.106</td>\n",
       "    </tr>\n",
       "    <tr>\n",
       "      <th>2</th>\n",
       "      <td>1</td>\n",
       "      <td>1</td>\n",
       "      <td>2010-02-19</td>\n",
       "      <td>41595.55</td>\n",
       "      <td>False</td>\n",
       "      <td>39.93</td>\n",
       "      <td>2.514</td>\n",
       "      <td>0.0</td>\n",
       "      <td>0.0</td>\n",
       "      <td>0.0</td>\n",
       "      <td>0.0</td>\n",
       "      <td>0.0</td>\n",
       "      <td>211.289143</td>\n",
       "      <td>8.106</td>\n",
       "    </tr>\n",
       "    <tr>\n",
       "      <th>3</th>\n",
       "      <td>1</td>\n",
       "      <td>1</td>\n",
       "      <td>2010-02-26</td>\n",
       "      <td>19403.54</td>\n",
       "      <td>False</td>\n",
       "      <td>46.63</td>\n",
       "      <td>2.561</td>\n",
       "      <td>0.0</td>\n",
       "      <td>0.0</td>\n",
       "      <td>0.0</td>\n",
       "      <td>0.0</td>\n",
       "      <td>0.0</td>\n",
       "      <td>211.319643</td>\n",
       "      <td>8.106</td>\n",
       "    </tr>\n",
       "    <tr>\n",
       "      <th>4</th>\n",
       "      <td>1</td>\n",
       "      <td>1</td>\n",
       "      <td>2010-05-03</td>\n",
       "      <td>21827.90</td>\n",
       "      <td>False</td>\n",
       "      <td>46.50</td>\n",
       "      <td>2.625</td>\n",
       "      <td>0.0</td>\n",
       "      <td>0.0</td>\n",
       "      <td>0.0</td>\n",
       "      <td>0.0</td>\n",
       "      <td>0.0</td>\n",
       "      <td>211.350143</td>\n",
       "      <td>8.106</td>\n",
       "    </tr>\n",
       "  </tbody>\n",
       "</table>\n",
       "</div>"
      ],
      "text/plain": [
       "   Store  Dept       Date  Weekly_Sales  IsHoliday  Temperature  Fuel_Price  \\\n",
       "0      1     1 2010-05-02      24924.50      False        42.31       2.572   \n",
       "1      1     1 2010-12-02      46039.49       True        38.51       2.548   \n",
       "2      1     1 2010-02-19      41595.55      False        39.93       2.514   \n",
       "3      1     1 2010-02-26      19403.54      False        46.63       2.561   \n",
       "4      1     1 2010-05-03      21827.90      False        46.50       2.625   \n",
       "\n",
       "   MarkDown1  MarkDown2  MarkDown3  MarkDown4  MarkDown5         CPI  \\\n",
       "0        0.0        0.0        0.0        0.0        0.0  211.096358   \n",
       "1        0.0        0.0        0.0        0.0        0.0  211.242170   \n",
       "2        0.0        0.0        0.0        0.0        0.0  211.289143   \n",
       "3        0.0        0.0        0.0        0.0        0.0  211.319643   \n",
       "4        0.0        0.0        0.0        0.0        0.0  211.350143   \n",
       "\n",
       "   Unemployment  \n",
       "0         8.106  \n",
       "1         8.106  \n",
       "2         8.106  \n",
       "3         8.106  \n",
       "4         8.106  "
      ]
     },
     "execution_count": 8,
     "metadata": {},
     "output_type": "execute_result"
    }
   ],
   "source": [
    "#Uniendo las tablas\n",
    "\n",
    "retail = pd.merge(sales, features,\n",
    "                  how=\"left\", on=[\"Store\",\"Date\",\"IsHoliday\"])\n",
    "\n",
    "retail.head()"
   ]
  },
  {
   "cell_type": "markdown",
   "id": "d45889de-08f0-4212-8bba-af2405357dc3",
   "metadata": {},
   "source": [
    "Best and worst store performance"
   ]
  },
  {
   "cell_type": "code",
   "execution_count": 18,
   "id": "1ffeecf1-e55d-46d9-9bd8-89dfabbe8079",
   "metadata": {},
   "outputs": [
    {
     "name": "stdout",
     "output_type": "stream",
     "text": [
      "Desde el 2010-01-10 al 2012-12-10 , la tienda 33 tiene las menores ventas con 37160222.0 en total.\n",
      " \n",
      "Desde el 2010-01-10 al 2012-12-10 , la tienda 20 tiene las mayores ventas con 301397792.0 en total.\n"
     ]
    }
   ],
   "source": [
    "#Store con mas y menos ventas\n",
    "\n",
    "weeklysales = retail.groupby(\"Store\").agg({\"Weekly_Sales\":\"sum\"})\n",
    "\n",
    "#Redondear\n",
    "\n",
    "weeklysales['Weekly_Sales'] = weeklysales['Weekly_Sales'].round()\n",
    "\n",
    "#Ordenar\n",
    "\n",
    "weeklysales = weeklysales.sort_values('Weekly_Sales')\n",
    "\n",
    "weeklysales = weeklysales.reset_index()\n",
    "\n",
    "\n",
    "minimum = weeklysales[ weeklysales[\"Weekly_Sales\"] == weeklysales[\"Weekly_Sales\"].min() ]\n",
    "\n",
    "maximum = weeklysales[ weeklysales[\"Weekly_Sales\"] == weeklysales[\"Weekly_Sales\"].max() ]\n",
    "\n",
    "print(\"Desde el\", retail[\"Date\"].min().date(), \"al\",retail[\"Date\"].max().date(),\", la tienda\" ,minimum.iloc[0,0], \"tiene las menores ventas con\", minimum.iloc[0,1], \"en total.\") \n",
    "print(\" \")\n",
    "print(\"Desde el\", retail[\"Date\"].min().date(), \"al\",retail[\"Date\"].max().date(),\", la tienda\" ,maximum.iloc[0,0], \"tiene las mayores ventas con\", maximum.iloc[0,1], \"en total.\") \n",
    "\n"
   ]
  },
  {
   "cell_type": "code",
   "execution_count": 10,
   "id": "ec8dde44-ffd6-4e0a-8c92-3b9313aab127",
   "metadata": {
    "tags": []
   },
   "outputs": [
    {
     "data": {
      "image/png": "[encoded data removed]",
      "text/plain": [
       "<Figure size 1332x396 with 1 Axes>"
      ]
     },
     "metadata": {
      "needs_background": "light"
     },
     "output_type": "display_data"
    }
   ],
   "source": [
    "#Ventas por semana a travez del tiempo\n",
    "\n",
    "#Preparando la tabla\n",
    "\n",
    "time_series = retail.groupby(by='Date').agg({\"Weekly_Sales\":\"sum\"})\n",
    "\n",
    "time_series[\"Weekly_Sales\"] = time_series[\"Weekly_Sales\"]/1000000\n",
    "\n",
    "fig, ax = plt.subplots()\n",
    "\n",
    "#Haciendo el gráfico\n",
    "\n",
    "ax.plot(time_series.index, time_series['Weekly_Sales'],color=\"green\", linewidth=4)\n",
    "\n",
    "\n",
    "ax.set_xlabel('Date')\n",
    "\n",
    "\n",
    "ax.set_ylabel('Sales')\n",
    "\n",
    "ax.set_title('Sales', size=16)\n",
    "\n",
    "ax.set_ylabel('Set in millions', size = 14)\n",
    "\n",
    "ax.set_xlabel('Date', size = 14)\n",
    "\n",
    "fig.set_size_inches(18.5, 5.5)\n",
    "\n",
    "plt.yticks([39.0, 50.0, 60.0, 70.0, 80.0],\n",
    "          [\"39.5 M\", \"50.0 M\", \"60.0 M\", \"70.0 M\", \"80.9 M\"])\n",
    "\n",
    "\n",
    "plt.show()"
   ]
  },
  {
   "cell_type": "markdown",
   "id": "f14e81a7-a460-46c7-85a5-322ec8fcfe13",
   "metadata": {},
   "source": [
    "Correlations"
   ]
  },
  {
   "cell_type": "code",
   "execution_count": 11,
   "id": "0ca0929b-76f1-46ca-abad-4a9ccd86a9c1",
   "metadata": {},
   "outputs": [
    {
     "data": {
      "image/png": "[encoded data removed]",
      "text/plain": [
       "<Figure size 1080x1080 with 2 Axes>"
      ]
     },
     "metadata": {
      "needs_background": "light"
     },
     "output_type": "display_data"
    }
   ],
   "source": [
    "#Correlaciones\n",
    "\n",
    "fig, ax = plt.subplots(figsize=(15,15))\n",
    "sns.heatmap(retail.corr(),cmap=\"Blues\", annot=True)\n",
    "plt.show()"
   ]
  },
  {
   "cell_type": "code",
   "execution_count": 12,
   "id": "6de3621c-bb13-467a-a3e7-21fcdfdb98fd",
   "metadata": {},
   "outputs": [
    {
     "data": {
      "image/png": "[encoded data removed]",
      "text/plain": [
       "<Figure size 720x360 with 2 Axes>"
      ]
     },
     "metadata": {
      "needs_background": "light"
     },
     "output_type": "display_data"
    }
   ],
   "source": [
    "#Creando las tablas que se van a usar para analizar las correlaciones entre \"Sales\", \"Markdowns\" y \"Holidays\"\n",
    "\n",
    "\n",
    "lol = features.groupby([\"Date\"])[[\"MarkDown1\",\"MarkDown2\",\"MarkDown3\",\"MarkDown4\",\"MarkDown5\"]].sum()\n",
    "lol['mark'] = lol.apply(lambda x: x['MarkDown1'] + x[\"MarkDown2\"] + x[\"MarkDown3\"] + x[\"MarkDown4\"] + x[\"MarkDown5\"], axis=1)\n",
    "del lol[\"MarkDown1\"]\n",
    "del lol[\"MarkDown2\"]\n",
    "del lol[\"MarkDown3\"]\n",
    "del lol[\"MarkDown4\"]\n",
    "del lol[\"MarkDown5\"]\n",
    "\n",
    "\n",
    "sol = sales\n",
    "sol = sales.groupby([\"Date\",\"IsHoliday\"]).agg({\"Weekly_Sales\":\"sum\"})\n",
    "sol = sol.round()\n",
    "sol = sol.reset_index()\n",
    "sol = sol.set_index(\"Date\")\n",
    "\n",
    "\n",
    "#Unir las dos tablas\n",
    "\n",
    "fin = pd.merge(lol, sol,\n",
    "                  how=\"inner\", on=[\"Date\"])\n",
    "\n",
    "#Creando columna con 1 si \"Holiday\" es True y 0 cuando es False\n",
    "\n",
    "fin[\"IsHoliday1\"] = fin[\"IsHoliday\"].astype(int)\n",
    "\n",
    "#Creando otra columna para mostrar \"Holiday\" cuando es 1 y \"Not Holiday\" cuando es 0\n",
    "\n",
    "fin.loc[fin['IsHoliday1'] == 0, 'IsHoliday2'] = 'Not Holiday' \n",
    "fin.loc[fin['IsHoliday1'] == 1, 'IsHoliday2'] = 'Holiday'\n",
    "\n",
    "#Haciendo el grafico\n",
    "\n",
    "sns.lmplot(x=\"mark\", y=\"Weekly_Sales\", \n",
    "            data=fin,\n",
    "            palette = \"bright\",\n",
    "            col = \"IsHoliday2\",\n",
    "            hue = \"IsHoliday2\") \n",
    "sns.set(font_scale=1.2)\n",
    "\n",
    "\n",
    "plt.show()\n"
   ]
  },
  {
   "cell_type": "code",
   "execution_count": 16,
   "id": "d7e074de-3a9b-4131-8452-d74063d1e85a",
   "metadata": {},
   "outputs": [
    {
     "name": "stdout",
     "output_type": "stream",
     "text": [
      "Aquí podemos ver que 2011-11-25 es la fecha en la que, al ser feriado, la correlación entre las ventas semanales y las rebajas es mayor, pero definitivamente la correlación general es débil.\n",
      "\n"
     ]
    },
    {
     "data": {
      "text/html": [
       "<div>\n",
       "<style scoped>\n",
       "    .dataframe tbody tr th:only-of-type {\n",
       "        vertical-align: middle;\n",
       "    }\n",
       "\n",
       "    .dataframe tbody tr th {\n",
       "        vertical-align: top;\n",
       "    }\n",
       "\n",
       "    .dataframe thead th {\n",
       "        text-align: right;\n",
       "    }\n",
       "</style>\n",
       "<table border=\"1\" class=\"dataframe\">\n",
       "  <thead>\n",
       "    <tr style=\"text-align: right;\">\n",
       "      <th></th>\n",
       "      <th>mark</th>\n",
       "      <th>IsHoliday</th>\n",
       "      <th>Weekly_Sales</th>\n",
       "      <th>IsHoliday1</th>\n",
       "      <th>IsHoliday2</th>\n",
       "    </tr>\n",
       "    <tr>\n",
       "      <th>Date</th>\n",
       "      <th></th>\n",
       "      <th></th>\n",
       "      <th></th>\n",
       "      <th></th>\n",
       "      <th></th>\n",
       "    </tr>\n",
       "  </thead>\n",
       "  <tbody>\n",
       "    <tr>\n",
       "      <th>2011-11-25</th>\n",
       "      <td>2517699.47</td>\n",
       "      <td>True</td>\n",
       "      <td>66593605.0</td>\n",
       "      <td>1</td>\n",
       "      <td>Holiday</td>\n",
       "    </tr>\n",
       "    <tr>\n",
       "      <th>2010-11-26</th>\n",
       "      <td>0.00</td>\n",
       "      <td>True</td>\n",
       "      <td>65821003.0</td>\n",
       "      <td>1</td>\n",
       "      <td>Holiday</td>\n",
       "    </tr>\n",
       "    <tr>\n",
       "      <th>2012-10-02</th>\n",
       "      <td>1346204.71</td>\n",
       "      <td>True</td>\n",
       "      <td>50009408.0</td>\n",
       "      <td>1</td>\n",
       "      <td>Holiday</td>\n",
       "    </tr>\n",
       "  </tbody>\n",
       "</table>\n",
       "</div>"
      ],
      "text/plain": [
       "                  mark  IsHoliday  Weekly_Sales  IsHoliday1 IsHoliday2\n",
       "Date                                                                  \n",
       "2011-11-25  2517699.47       True    66593605.0           1    Holiday\n",
       "2010-11-26        0.00       True    65821003.0           1    Holiday\n",
       "2012-10-02  1346204.71       True    50009408.0           1    Holiday"
      ]
     },
     "execution_count": 16,
     "metadata": {},
     "output_type": "execute_result"
    }
   ],
   "source": [
    "\n",
    "big = fin.loc[fin['IsHoliday'] == True]\n",
    "big = big.sort_values(by=\"Weekly_Sales\", ascending = False)\n",
    "print(\"Aquí podemos ver que 2011-11-25 es la fecha en la que, al ser feriado, la correlación entre las ventas semanales y las rebajas es mayor, pero definitivamente la correlación general es débil.\")\n",
    "print(\"\")\n",
    "big.head(3)"
   ]
  },
  {
   "cell_type": "code",
   "execution_count": 79,
   "id": "cbee1ed7-87c9-4adc-bf32-9da6c6fd3064",
   "metadata": {},
   "outputs": [
    {
     "name": "stdout",
     "output_type": "stream",
     "text": [
      "There are more outliers not beeign holiday but the median is higher when Holidays\n"
     ]
    },
    {
     "data": {
      "image/png": "[encoded data removed]",
      "text/plain": [
       "<Figure size 360x360 with 1 Axes>"
      ]
     },
     "metadata": {},
     "output_type": "display_data"
    }
   ],
   "source": [
    "#Creando box plots\n",
    "\n",
    "g = sns.catplot(x=\"IsHoliday\", y=\"Weekly_Sales\", \n",
    "            data=fin,\n",
    "            kind = \"box\") \n",
    "sns.set(font_scale=1.2)\n",
    "print(\"Hay más valores atípicos no siendo vacaciones pero la mediana es más alta cuando hay vacaciones\")\n",
    "\n",
    "\n",
    "plt.show()"
   ]
  },
  {
   "cell_type": "markdown",
   "id": "5f2ee76b-205f-4480-ab13-6f3a97f41b28",
   "metadata": {},
   "source": [
    "Best weekly sales"
   ]
  },
  {
   "cell_type": "code",
   "execution_count": 14,
   "id": "65528238-b6c5-4290-9f19-0219dfaa43d1",
   "metadata": {},
   "outputs": [
    {
     "data": {
      "text/html": [
       "<div>\n",
       "<style scoped>\n",
       "    .dataframe tbody tr th:only-of-type {\n",
       "        vertical-align: middle;\n",
       "    }\n",
       "\n",
       "    .dataframe tbody tr th {\n",
       "        vertical-align: top;\n",
       "    }\n",
       "\n",
       "    .dataframe thead th {\n",
       "        text-align: right;\n",
       "    }\n",
       "</style>\n",
       "<table border=\"1\" class=\"dataframe\">\n",
       "  <thead>\n",
       "    <tr style=\"text-align: right;\">\n",
       "      <th></th>\n",
       "      <th>Weekly_Sales</th>\n",
       "      <th>IsHoliday</th>\n",
       "      <th>mark</th>\n",
       "    </tr>\n",
       "    <tr>\n",
       "      <th>Date</th>\n",
       "      <th></th>\n",
       "      <th></th>\n",
       "      <th></th>\n",
       "    </tr>\n",
       "  </thead>\n",
       "  <tbody>\n",
       "    <tr>\n",
       "      <th>2010-12-24</th>\n",
       "      <td>80931416.0</td>\n",
       "      <td>False</td>\n",
       "      <td>0.00</td>\n",
       "    </tr>\n",
       "    <tr>\n",
       "      <th>2011-12-23</th>\n",
       "      <td>76998241.0</td>\n",
       "      <td>False</td>\n",
       "      <td>247622.08</td>\n",
       "    </tr>\n",
       "    <tr>\n",
       "      <th>2010-12-17</th>\n",
       "      <td>61820800.0</td>\n",
       "      <td>False</td>\n",
       "      <td>0.00</td>\n",
       "    </tr>\n",
       "  </tbody>\n",
       "</table>\n",
       "</div>"
      ],
      "text/plain": [
       "            Weekly_Sales  IsHoliday       mark\n",
       "Date                                          \n",
       "2010-12-24    80931416.0      False       0.00\n",
       "2011-12-23    76998241.0      False  247622.08\n",
       "2010-12-17    61820800.0      False       0.00"
      ]
     },
     "execution_count": 14,
     "metadata": {},
     "output_type": "execute_result"
    }
   ],
   "source": [
    "#Mejores 3 semanas cunado es \"not holiday\"\n",
    "\n",
    "best3 = fin.sort_values(by=\"Weekly_Sales\",ascending=False)\n",
    "best3 = best3.loc[best3['IsHoliday'] == False]\n",
    "best3[[\"Weekly_Sales\",\"IsHoliday\",\"mark\"]].head(3)"
   ]
  },
  {
   "cell_type": "code",
   "execution_count": 78,
   "id": "134db63e-0368-4344-b292-57d2fc3b8da4",
   "metadata": {},
   "outputs": [
    {
     "data": {
      "text/html": [
       "<div>\n",
       "<style scoped>\n",
       "    .dataframe tbody tr th:only-of-type {\n",
       "        vertical-align: middle;\n",
       "    }\n",
       "\n",
       "    .dataframe tbody tr th {\n",
       "        vertical-align: top;\n",
       "    }\n",
       "\n",
       "    .dataframe thead th {\n",
       "        text-align: right;\n",
       "    }\n",
       "</style>\n",
       "<table border=\"1\" class=\"dataframe\">\n",
       "  <thead>\n",
       "    <tr style=\"text-align: right;\">\n",
       "      <th></th>\n",
       "      <th>Weekly_Sales</th>\n",
       "      <th>IsHoliday</th>\n",
       "      <th>mark</th>\n",
       "    </tr>\n",
       "    <tr>\n",
       "      <th>Date</th>\n",
       "      <th></th>\n",
       "      <th></th>\n",
       "      <th></th>\n",
       "    </tr>\n",
       "  </thead>\n",
       "  <tbody>\n",
       "    <tr>\n",
       "      <th>2011-11-25</th>\n",
       "      <td>66593605.0</td>\n",
       "      <td>True</td>\n",
       "      <td>2517699.47</td>\n",
       "    </tr>\n",
       "    <tr>\n",
       "      <th>2010-11-26</th>\n",
       "      <td>65821003.0</td>\n",
       "      <td>True</td>\n",
       "      <td>0.00</td>\n",
       "    </tr>\n",
       "    <tr>\n",
       "      <th>2012-10-02</th>\n",
       "      <td>50009408.0</td>\n",
       "      <td>True</td>\n",
       "      <td>1346204.71</td>\n",
       "    </tr>\n",
       "  </tbody>\n",
       "</table>\n",
       "</div>"
      ],
      "text/plain": [
       "            Weekly_Sales  IsHoliday        mark\n",
       "Date                                           \n",
       "2011-11-25    66593605.0       True  2517699.47\n",
       "2010-11-26    65821003.0       True        0.00\n",
       "2012-10-02    50009408.0       True  1346204.71"
      ]
     },
     "execution_count": 78,
     "metadata": {},
     "output_type": "execute_result"
    }
   ],
   "source": [
    "#Mejores 3 semanas siendo \"Holiday\"\n",
    "best3s = fin.sort_values(by=\"Weekly_Sales\",ascending=False)\n",
    "best3s = best3s.loc[best3s['IsHoliday'] == True]\n",
    "best3s[[\"Weekly_Sales\",\"IsHoliday\",\"mark\"]].head(3)"
   ]
  },
  {
   "cell_type": "markdown",
   "id": "a8ebc3e8-436d-485a-aade-7ff0ebc14b96",
   "metadata": {},
   "source": [
    "Stores Analisys"
   ]
  },
  {
   "cell_type": "code",
   "execution_count": 148,
   "id": "e4f2f786-f48c-40f1-ab1f-1942ad7ad01f",
   "metadata": {},
   "outputs": [
    {
     "name": "stdout",
     "output_type": "stream",
     "text": [
      "Best 3 stores performance\n",
      "\n",
      "       Weekly_Sales\n",
      "Store              \n",
      "20      301397792.0\n",
      "4       299543953.0\n",
      "14      288999911.0\n",
      "\n",
      "Worst 3 stores performance\n",
      "\n",
      "       Weekly_Sales\n",
      "Store              \n",
      "33       37160222.0\n",
      "44       43293088.0\n",
      "5        45475689.0\n"
     ]
    }
   ],
   "source": [
    "#Tiendas con mayores ventas y tiendas con menores ventas\n",
    "\n",
    "stores1 = sales\n",
    "stores1 = sales.groupby([\"Store\"]).agg({\"Weekly_Sales\":\"sum\"})\n",
    "stores1 = stores1.round()\n",
    "\n",
    "be = stores1.sort_values(by=\"Weekly_Sales\",ascending=False)\n",
    "bo = stores1.sort_values(by=\"Weekly_Sales\",ascending=True)\n",
    "\n",
    "print(\"Best 3 stores performance\")\n",
    "print()\n",
    "print(be[[\"Weekly_Sales\"]].head(3))\n",
    "print()\n",
    "print(\"Worst 3 stores performance\")\n",
    "print()\n",
    "print(bo[[\"Weekly_Sales\"]].head(3))"
   ]
  },
  {
   "cell_type": "code",
   "execution_count": 175,
   "id": "adf65a60-cd53-4948-8ab7-20c7c91e4220",
   "metadata": {},
   "outputs": [
    {
     "data": {
      "text/html": [
       "<div>\n",
       "<style scoped>\n",
       "    .dataframe tbody tr th:only-of-type {\n",
       "        vertical-align: middle;\n",
       "    }\n",
       "\n",
       "    .dataframe tbody tr th {\n",
       "        vertical-align: top;\n",
       "    }\n",
       "\n",
       "    .dataframe thead th {\n",
       "        text-align: right;\n",
       "    }\n",
       "</style>\n",
       "<table border=\"1\" class=\"dataframe\">\n",
       "  <thead>\n",
       "    <tr style=\"text-align: right;\">\n",
       "      <th></th>\n",
       "      <th>Weekly_Sales</th>\n",
       "    </tr>\n",
       "    <tr>\n",
       "      <th>Dept</th>\n",
       "      <th></th>\n",
       "    </tr>\n",
       "  </thead>\n",
       "  <tbody>\n",
       "    <tr>\n",
       "      <th>92</th>\n",
       "      <td>23542625.04</td>\n",
       "    </tr>\n",
       "    <tr>\n",
       "      <th>95</th>\n",
       "      <td>21537795.62</td>\n",
       "    </tr>\n",
       "    <tr>\n",
       "      <th>38</th>\n",
       "      <td>15759345.93</td>\n",
       "    </tr>\n",
       "  </tbody>\n",
       "</table>\n",
       "</div>"
      ],
      "text/plain": [
       "      Weekly_Sales\n",
       "Dept              \n",
       "92     23542625.04\n",
       "95     21537795.62\n",
       "38     15759345.93"
      ]
     },
     "execution_count": 175,
     "metadata": {},
     "output_type": "execute_result"
    }
   ],
   "source": [
    "#Mejores 3 departamentos en la tienda 20\n",
    "\n",
    "storess1 = sales.loc[sales['Store'] == 20]\n",
    "\n",
    "storess1 = storess1.groupby(\"Dept\").agg({\"Weekly_Sales\":\"sum\"})\n",
    "\n",
    "storess1 = storess1.sort_values(by=\"Weekly_Sales\", ascending=False)\n",
    "\n",
    "storess1.head(3)"
   ]
  },
  {
   "cell_type": "code",
   "execution_count": 15,
   "id": "956f43cd-2351-41db-a064-df1566ccac7d",
   "metadata": {},
   "outputs": [
    {
     "data": {
      "text/html": [
       "<div>\n",
       "<style scoped>\n",
       "    .dataframe tbody tr th:only-of-type {\n",
       "        vertical-align: middle;\n",
       "    }\n",
       "\n",
       "    .dataframe tbody tr th {\n",
       "        vertical-align: top;\n",
       "    }\n",
       "\n",
       "    .dataframe thead th {\n",
       "        text-align: right;\n",
       "    }\n",
       "</style>\n",
       "<table border=\"1\" class=\"dataframe\">\n",
       "  <thead>\n",
       "    <tr style=\"text-align: right;\">\n",
       "      <th></th>\n",
       "      <th>Weekly_Sales</th>\n",
       "    </tr>\n",
       "    <tr>\n",
       "      <th>Dept</th>\n",
       "      <th></th>\n",
       "    </tr>\n",
       "  </thead>\n",
       "  <tbody>\n",
       "    <tr>\n",
       "      <th>99</th>\n",
       "      <td>-7.06</td>\n",
       "    </tr>\n",
       "    <tr>\n",
       "      <th>19</th>\n",
       "      <td>2.38</td>\n",
       "    </tr>\n",
       "    <tr>\n",
       "      <th>33</th>\n",
       "      <td>14.50</td>\n",
       "    </tr>\n",
       "  </tbody>\n",
       "</table>\n",
       "</div>"
      ],
      "text/plain": [
       "      Weekly_Sales\n",
       "Dept              \n",
       "99           -7.06\n",
       "19            2.38\n",
       "33           14.50"
      ]
     },
     "execution_count": 15,
     "metadata": {},
     "output_type": "execute_result"
    }
   ],
   "source": [
    "#Peores 3 departamentos en la tienda 30\n",
    "\n",
    "storess2 = sales.loc[sales['Store'] == 30]\n",
    "\n",
    "storess2 = storess2.groupby(\"Dept\").agg({\"Weekly_Sales\":\"sum\"})\n",
    "\n",
    "storess2 = storess2.sort_values(by=\"Weekly_Sales\", ascending=True)\n",
    "\n",
    "storess2.head(3)"
   ]
  },
  {
   "cell_type": "markdown",
   "id": "923b19ba-c749-4beb-ae88-1e2f89ca9385",
   "metadata": {},
   "source": [
    "El dashboard completo con el análisis definitivo se encuentra en Tableau (link)."
   ]
  }
 ],
 "metadata": {
  "kernelspec": {
   "display_name": "Python 3 (ipykernel)",
   "language": "python",
   "name": "python3"
  },
  "language_info": {
   "codemirror_mode": {
    "name": "ipython",
    "version": 3
   },
   "file_extension": ".py",
   "mimetype": "text/x-python",
   "name": "python",
   "nbconvert_exporter": "python",
   "pygments_lexer": "ipython3",
   "version": "3.9.10"
  },
  "toc-autonumbering": false,
  "toc-showcode": false,
  "toc-showmarkdowntxt": true
 },
 "nbformat": 4,
 "nbformat_minor": 5
}
